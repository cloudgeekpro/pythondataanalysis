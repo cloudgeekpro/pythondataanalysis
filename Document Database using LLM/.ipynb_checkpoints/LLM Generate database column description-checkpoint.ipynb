{
 "cells": [
  {
   "cell_type": "markdown",
   "id": "32b74f57",
   "metadata": {},
   "source": [
    "### Import libraries"
   ]
  },
  {
   "cell_type": "code",
   "execution_count": 1,
   "id": "bb4dff7b",
   "metadata": {},
   "outputs": [],
   "source": [
    "import os\n",
    "import openai\n",
    "from sqlalchemy import create_engine, MetaData\n",
    "import pandas as pd\n",
    "import os\n",
    "from sqlalchemy.engine import URL"
   ]
  },
  {
   "cell_type": "markdown",
   "id": "0113137a",
   "metadata": {
    "heading_collapsed": true
   },
   "source": [
    "### OpenAI Instance using Ollama"
   ]
  },
  {
   "cell_type": "code",
   "execution_count": 2,
   "id": "8f2b7036",
   "metadata": {
    "hidden": true
   },
   "outputs": [],
   "source": [
    "# Setup model API\n",
    "openai.api_key = \"ollama\"\n",
    "client = openai.OpenAI(\n",
    "    api_key=openai.api_key,\n",
    "    base_url=\"http://localhost:11434/v1\"\n",
    ")"
   ]
  },
  {
   "cell_type": "markdown",
   "id": "57677a0f",
   "metadata": {
    "heading_collapsed": true
   },
   "source": [
    "### Call to Model API to Generact Docs"
   ]
  },
  {
   "cell_type": "code",
   "execution_count": 3,
   "id": "5f384d82",
   "metadata": {
    "hidden": true
   },
   "outputs": [],
   "source": [
    "def classify_columns(column):\n",
    "    try:\n",
    "        response = client.chat.completions.create(\n",
    "            model=\"llama3\",\n",
    "            messages=[\n",
    "                {\"role\": \"system\", \"content\": \"\"\"\n",
    "                    You are a helpful assistant designed to generate description for columns in database table. \n",
    "                    Must respond with brief description for the provided column.\n",
    "                    \n",
    "                    ### Database Schema\n",
    "                    Use the following Postgres database schema.\n",
    "                    CREATE TABLE dimproduct (\n",
    "                            product_key text primary key,\n",
    "                            productid bigint,\n",
    "                            product_name text,\n",
    "                            productnumber text,\n",
    "                            color text,\n",
    "                            daystomanufacture bigint,\n",
    "                            safetystocklevel bigint,\n",
    "                            standardcost double precision,\n",
    "                            product_subcategory_name text,\n",
    "                            product_category_name text,\n",
    "                            sellstartdate text,\n",
    "                            sellenddate text\n",
    "                            );\n",
    "\n",
    "                    \"\"\"\n",
    "                },\n",
    "                {\"role\": \"user\", \"content\": column} \n",
    "            ]\n",
    "        )\n",
    "        description = response.choices[0].message.content.strip()\n",
    "        print(f\"Column: '{column}' -> description: '{description}'\")\n",
    "        return description.title()\n",
    "    except Exception as e:\n",
    "        print(f\"Error in classifying the column: {e}\")\n",
    "        return \"Process Failed\""
   ]
  },
  {
   "cell_type": "markdown",
   "id": "9a06dd28",
   "metadata": {},
   "source": [
    "### Get Table Columns from DB"
   ]
  },
  {
   "cell_type": "code",
   "execution_count": 4,
   "id": "f08997cc",
   "metadata": {},
   "outputs": [],
   "source": [
    "#get password from environmnet var\n",
    "pwd = os.environ['PGPASS']\n",
    "uid = os.environ['PGUID']\n",
    "#sql db details\n",
    "server = \"192.168.1.39\"\n",
    "database = \"adventureworks;\""
   ]
  },
  {
   "cell_type": "code",
   "execution_count": 5,
   "id": "3212e50e",
   "metadata": {},
   "outputs": [],
   "source": [
    "DB_URL = f'postgresql://{uid}:{pwd}@{server}:5432/adventureworks'\n",
    "engine = create_engine(DB_URL, connect_args={'options': '-csearch_path={}'.format('sales')})"
   ]
  },
  {
   "cell_type": "code",
   "execution_count": 6,
   "id": "d4ffdd1e",
   "metadata": {},
   "outputs": [
    {
     "data": {
      "text/html": [
       "<div>\n",
       "<style scoped>\n",
       "    .dataframe tbody tr th:only-of-type {\n",
       "        vertical-align: middle;\n",
       "    }\n",
       "\n",
       "    .dataframe tbody tr th {\n",
       "        vertical-align: top;\n",
       "    }\n",
       "\n",
       "    .dataframe thead th {\n",
       "        text-align: right;\n",
       "    }\n",
       "</style>\n",
       "<table border=\"1\" class=\"dataframe\">\n",
       "  <thead>\n",
       "    <tr style=\"text-align: right;\">\n",
       "      <th></th>\n",
       "      <th>product_key</th>\n",
       "      <th>productid</th>\n",
       "      <th>product_name</th>\n",
       "      <th>productnumber</th>\n",
       "      <th>color</th>\n",
       "      <th>daystomanufacture</th>\n",
       "      <th>safetystocklevel</th>\n",
       "      <th>standardcost</th>\n",
       "      <th>product_subcategory_name</th>\n",
       "      <th>product_category_name</th>\n",
       "      <th>sellstartdate</th>\n",
       "      <th>sellenddate</th>\n",
       "    </tr>\n",
       "  </thead>\n",
       "  <tbody>\n",
       "    <tr>\n",
       "      <th>0</th>\n",
       "      <td>7b13b2203029ed80337f27127a9f1d28</td>\n",
       "      <td>993</td>\n",
       "      <td>Mountain-500 Black, 52</td>\n",
       "      <td>BK-M18B-52</td>\n",
       "      <td>Black</td>\n",
       "      <td>4</td>\n",
       "      <td>100</td>\n",
       "      <td>294.5797</td>\n",
       "      <td>Mountain Bikes</td>\n",
       "      <td>Bikes</td>\n",
       "      <td>2013-05-30T00:00:00.000000Z</td>\n",
       "      <td>None</td>\n",
       "    </tr>\n",
       "    <tr>\n",
       "      <th>1</th>\n",
       "      <td>860320be12a1c050cd7731794e231bd3</td>\n",
       "      <td>992</td>\n",
       "      <td>Mountain-500 Black, 48</td>\n",
       "      <td>BK-M18B-48</td>\n",
       "      <td>Black</td>\n",
       "      <td>4</td>\n",
       "      <td>100</td>\n",
       "      <td>294.5797</td>\n",
       "      <td>Mountain Bikes</td>\n",
       "      <td>Bikes</td>\n",
       "      <td>2013-05-30T00:00:00.000000Z</td>\n",
       "      <td>None</td>\n",
       "    </tr>\n",
       "    <tr>\n",
       "      <th>2</th>\n",
       "      <td>692f93be8c7a41525c0baf2076aecfb4</td>\n",
       "      <td>991</td>\n",
       "      <td>Mountain-500 Black, 44</td>\n",
       "      <td>BK-M18B-44</td>\n",
       "      <td>Black</td>\n",
       "      <td>4</td>\n",
       "      <td>100</td>\n",
       "      <td>294.5797</td>\n",
       "      <td>Mountain Bikes</td>\n",
       "      <td>Bikes</td>\n",
       "      <td>2013-05-30T00:00:00.000000Z</td>\n",
       "      <td>None</td>\n",
       "    </tr>\n",
       "    <tr>\n",
       "      <th>3</th>\n",
       "      <td>4fac9ba115140ac4f1c22da82aa0bc7f</td>\n",
       "      <td>990</td>\n",
       "      <td>Mountain-500 Black, 42</td>\n",
       "      <td>BK-M18B-42</td>\n",
       "      <td>Black</td>\n",
       "      <td>4</td>\n",
       "      <td>100</td>\n",
       "      <td>294.5797</td>\n",
       "      <td>Mountain Bikes</td>\n",
       "      <td>Bikes</td>\n",
       "      <td>2013-05-30T00:00:00.000000Z</td>\n",
       "      <td>None</td>\n",
       "    </tr>\n",
       "    <tr>\n",
       "      <th>4</th>\n",
       "      <td>a1140a3d0df1c81e24ae954d935e8926</td>\n",
       "      <td>989</td>\n",
       "      <td>Mountain-500 Black, 40</td>\n",
       "      <td>BK-M18B-40</td>\n",
       "      <td>Black</td>\n",
       "      <td>4</td>\n",
       "      <td>100</td>\n",
       "      <td>294.5797</td>\n",
       "      <td>Mountain Bikes</td>\n",
       "      <td>Bikes</td>\n",
       "      <td>2013-05-30T00:00:00.000000Z</td>\n",
       "      <td>None</td>\n",
       "    </tr>\n",
       "  </tbody>\n",
       "</table>\n",
       "</div>"
      ],
      "text/plain": [
       "                        product_key  productid            product_name  \\\n",
       "0  7b13b2203029ed80337f27127a9f1d28        993  Mountain-500 Black, 52   \n",
       "1  860320be12a1c050cd7731794e231bd3        992  Mountain-500 Black, 48   \n",
       "2  692f93be8c7a41525c0baf2076aecfb4        991  Mountain-500 Black, 44   \n",
       "3  4fac9ba115140ac4f1c22da82aa0bc7f        990  Mountain-500 Black, 42   \n",
       "4  a1140a3d0df1c81e24ae954d935e8926        989  Mountain-500 Black, 40   \n",
       "\n",
       "  productnumber  color  daystomanufacture  safetystocklevel  standardcost  \\\n",
       "0    BK-M18B-52  Black                  4               100      294.5797   \n",
       "1    BK-M18B-48  Black                  4               100      294.5797   \n",
       "2    BK-M18B-44  Black                  4               100      294.5797   \n",
       "3    BK-M18B-42  Black                  4               100      294.5797   \n",
       "4    BK-M18B-40  Black                  4               100      294.5797   \n",
       "\n",
       "  product_subcategory_name product_category_name                sellstartdate  \\\n",
       "0           Mountain Bikes                 Bikes  2013-05-30T00:00:00.000000Z   \n",
       "1           Mountain Bikes                 Bikes  2013-05-30T00:00:00.000000Z   \n",
       "2           Mountain Bikes                 Bikes  2013-05-30T00:00:00.000000Z   \n",
       "3           Mountain Bikes                 Bikes  2013-05-30T00:00:00.000000Z   \n",
       "4           Mountain Bikes                 Bikes  2013-05-30T00:00:00.000000Z   \n",
       "\n",
       "  sellenddate  \n",
       "0        None  \n",
       "1        None  \n",
       "2        None  \n",
       "3        None  \n",
       "4        None  "
      ]
     },
     "execution_count": 6,
     "metadata": {},
     "output_type": "execute_result"
    }
   ],
   "source": [
    "df = pd.read_sql_query(f\"select * from product limit 10\", engine)\n",
    "df.head()"
   ]
  },
  {
   "cell_type": "code",
   "execution_count": 7,
   "id": "7939ccd3",
   "metadata": {},
   "outputs": [
    {
     "data": {
      "text/plain": [
       "Index(['product_key', 'productid', 'product_name', 'productnumber', 'color',\n",
       "       'daystomanufacture', 'safetystocklevel', 'standardcost',\n",
       "       'product_subcategory_name', 'product_category_name', 'sellstartdate',\n",
       "       'sellenddate'],\n",
       "      dtype='object')"
      ]
     },
     "execution_count": 7,
     "metadata": {},
     "output_type": "execute_result"
    }
   ],
   "source": [
    "df.columns"
   ]
  },
  {
   "cell_type": "markdown",
   "id": "4273b2df",
   "metadata": {},
   "source": [
    "### Test the Model API & Generate Docs"
   ]
  },
  {
   "cell_type": "code",
   "execution_count": 8,
   "id": "2484bc12",
   "metadata": {},
   "outputs": [
    {
     "name": "stdout",
     "output_type": "stream",
     "text": [
      "Column: 'product_key' -> description: 'Unique identifier for a product in the database.'\n"
     ]
    }
   ],
   "source": [
    "category = classify_columns(\"product_key\")"
   ]
  },
  {
   "cell_type": "code",
   "execution_count": 9,
   "id": "ab1d583c",
   "metadata": {},
   "outputs": [
    {
     "name": "stdout",
     "output_type": "stream",
     "text": [
      "product_key\n",
      "Column: 'product_key' -> description: 'Unique identifier for each product, serving as the primary key in the table.'\n",
      "productid\n",
      "Column: 'productid' -> description: 'Unique identifier for each product.'\n",
      "product_name\n",
      "Column: 'product_name' -> description: 'Product name: A brief description that identifies the specific product.'\n",
      "productnumber\n",
      "Column: 'productnumber' -> description: 'Unique identifier assigned to each product variant.'\n",
      "color\n",
      "Column: 'color' -> description: 'The `color` column represents the color or finish of a product.'\n",
      "daystomanufacture\n",
      "Column: 'daystomanufacture' -> description: 'The \"daystomanufacture\" column in the dimproduct table represents the number of days it takes to manufacture a particular product.'\n",
      "safetystocklevel\n",
      "Column: 'safetystocklevel' -> description: 'The `safetystocklevel` column represents the minimum stock level for a product that is considered safe to ensure timely fulfillment of customer orders.'\n",
      "standardcost\n",
      "Column: 'standardcost' -> description: 'The `standardcost` column represents the standard cost of a product. It stores the expected or normal cost of producing or acquiring the product.'\n",
      "product_subcategory_name\n",
      "Column: 'product_subcategory_name' -> description: 'Product subcategory name: This column stores the category-specific subcategory of a product. It provides additional detail about the type of product within its main category.'\n",
      "product_category_name\n",
      "Column: 'product_category_name' -> description: 'Product category name represents the top-level categorization of a product within the product hierarchy.'\n",
      "sellstartdate\n",
      "Column: 'sellstartdate' -> description: 'The `sellstartdate` column represents the starting date when a product was put up for sale.'\n",
      "sellenddate\n",
      "Column: 'sellenddate' -> description: 'The `sellenddate` column represents the end date for selling a product, indicating when it was discontinued or no longer available for purchase.'\n"
     ]
    }
   ],
   "source": [
    "# Initialize an empty dictionary\n",
    "data = {'column': [], 'description': []}\n",
    "for column in df:\n",
    "    print(column)\n",
    "    description = classify_columns(column)\n",
    "    # Append data to the lists\n",
    "    data['column'].append(column)\n",
    "    data['description'].append(description)"
   ]
  },
  {
   "cell_type": "code",
   "execution_count": null,
   "id": "f7b6cc0b",
   "metadata": {},
   "outputs": [],
   "source": []
  },
  {
   "cell_type": "code",
   "execution_count": null,
   "id": "09df43aa",
   "metadata": {},
   "outputs": [],
   "source": []
  },
  {
   "cell_type": "code",
   "execution_count": null,
   "id": "75597355",
   "metadata": {},
   "outputs": [],
   "source": []
  },
  {
   "cell_type": "code",
   "execution_count": null,
   "id": "e0f0b093",
   "metadata": {},
   "outputs": [],
   "source": []
  },
  {
   "cell_type": "code",
   "execution_count": null,
   "id": "68a3c828",
   "metadata": {},
   "outputs": [],
   "source": []
  }
 ],
 "metadata": {
  "kernelspec": {
   "display_name": "Python 3 (ipykernel)",
   "language": "python",
   "name": "python3"
  },
  "language_info": {
   "codemirror_mode": {
    "name": "ipython",
    "version": 3
   },
   "file_extension": ".py",
   "mimetype": "text/x-python",
   "name": "python",
   "nbconvert_exporter": "python",
   "pygments_lexer": "ipython3",
   "version": "3.12.3"
  }
 },
 "nbformat": 4,
 "nbformat_minor": 5
}
